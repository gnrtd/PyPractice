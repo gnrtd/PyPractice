{
  "nbformat": 4,
  "nbformat_minor": 0,
  "metadata": {
    "colab": {
      "provenance": [],
      "authorship_tag": "ABX9TyMmHdTi/NENz5fokB6aqci4",
      "include_colab_link": true
    },
    "kernelspec": {
      "name": "python3",
      "display_name": "Python 3"
    },
    "language_info": {
      "name": "python"
    }
  },
  "cells": [
    {
      "cell_type": "markdown",
      "metadata": {
        "id": "view-in-github",
        "colab_type": "text"
      },
      "source": [
        "<a href=\"https://colab.research.google.com/github/gnrtd/PyPractice/blob/main/12July_2025.ipynb\" target=\"_parent\"><img src=\"https://colab.research.google.com/assets/colab-badge.svg\" alt=\"Open In Colab\"/></a>"
      ]
    },
    {
      "cell_type": "code",
      "source": [],
      "metadata": {
        "id": "ztOtUv6LVwAi"
      },
      "execution_count": null,
      "outputs": []
    },
    {
      "cell_type": "markdown",
      "source": [
        "# Python Class\n",
        "## program - set of instructions you give to computer\n",
        "\n",
        "### advantages of Python\n",
        "\n",
        "\n",
        "*   Easy to learn\n",
        "*   Strong library support\n",
        "*   Huge community\n",
        "*   Open source\n",
        "\n"
      ],
      "metadata": {
        "id": "hiYHQbUqVzmQ"
      }
    },
    {
      "cell_type": "markdown",
      "source": [
        "## variables - containers which store data inside them"
      ],
      "metadata": {
        "id": "wpKbmVa3pX5Q"
      }
    },
    {
      "cell_type": "code",
      "source": [
        "x = 10\n",
        "Y = 5\n",
        "no_of_stud = 10\n",
        "NoOfStud = 10\n",
        "noofstud  =10"
      ],
      "metadata": {
        "id": "AOg8B-2hpPB5"
      },
      "execution_count": null,
      "outputs": []
    },
    {
      "cell_type": "code",
      "source": [
        "x = 5\n",
        "y = 10\n",
        "z = 8"
      ],
      "metadata": {
        "id": "9hAoAdgupGm9"
      },
      "execution_count": null,
      "outputs": []
    },
    {
      "cell_type": "code",
      "source": [
        "x + Y"
      ],
      "metadata": {
        "colab": {
          "base_uri": "https://localhost:8080/"
        },
        "id": "vJVaoYJNpIAh",
        "outputId": "8f192ffa-d790-4c7c-b2a0-c3813b3d72f5"
      },
      "execution_count": null,
      "outputs": [
        {
          "output_type": "execute_result",
          "data": {
            "text/plain": [
              "10"
            ]
          },
          "metadata": {},
          "execution_count": 7
        }
      ]
    },
    {
      "cell_type": "code",
      "source": [
        "x = 10\n",
        "y = 6.9\n",
        "z = 'Hello'\n",
        "print(x)\n",
        "print(y)\n",
        "print(z)\n",
        "print(z)"
      ],
      "metadata": {
        "colab": {
          "base_uri": "https://localhost:8080/"
        },
        "id": "WdOQJs2Yozod",
        "outputId": "3847309a-869a-4a8e-fb7f-71ba578f69e8"
      },
      "execution_count": null,
      "outputs": [
        {
          "output_type": "stream",
          "name": "stdout",
          "text": [
            "10\n",
            "6.9\n",
            "Hello\n",
            "Hello\n"
          ]
        }
      ]
    },
    {
      "cell_type": "code",
      "source": [
        "# calculate the are o circle\n",
        "# a = pi * r * r\n",
        "# 3.14\n",
        "# take r and pi as variables\n",
        "# print the area of circle finalle with a message\n"
      ],
      "metadata": {
        "id": "cuppjcTgWVnl"
      },
      "execution_count": null,
      "outputs": []
    },
    {
      "cell_type": "code",
      "source": [
        "r = 10\n",
        "pi = 3.14\n",
        "a = pi * r * r\n",
        "print('area of the circle with radius', r, 'is', a)"
      ],
      "metadata": {
        "colab": {
          "base_uri": "https://localhost:8080/"
        },
        "id": "CMIkuRvMhgSa",
        "outputId": "8662faa6-22d2-4e1e-c06d-e5f0dfb736c6"
      },
      "execution_count": null,
      "outputs": [
        {
          "output_type": "stream",
          "name": "stdout",
          "text": [
            "area of the circle with radius 10 is 314.0\n"
          ]
        }
      ]
    },
    {
      "cell_type": "code",
      "source": [
        "# take a temperature in fahr from celsius"
      ],
      "metadata": {
        "id": "geTAeR-6iTMm"
      },
      "execution_count": null,
      "outputs": []
    },
    {
      "cell_type": "code",
      "source": [
        "c = 0\n",
        "f = (c * 9/5) + 32\n",
        "print('temperature in F =', f)"
      ],
      "metadata": {
        "colab": {
          "base_uri": "https://localhost:8080/"
        },
        "id": "aqjlXOoMi5Dt",
        "outputId": "9eb2dafd-2c58-4a49-8f40-7a2f867bbe6c"
      },
      "execution_count": null,
      "outputs": [
        {
          "output_type": "stream",
          "name": "stdout",
          "text": [
            "temperature in F = 32.0\n"
          ]
        }
      ]
    },
    {
      "cell_type": "code",
      "source": [
        "L = 10\n",
        "B = 5\n",
        "a = L * B\n",
        "print(f'the area of rectangle with lenght:{L} and breath:{B} is {a} ')"
      ],
      "metadata": {
        "colab": {
          "base_uri": "https://localhost:8080/"
        },
        "id": "2wAltt5PkvMF",
        "outputId": "7280fa44-c5e7-4c93-fbbf-ac94df5bbae7"
      },
      "execution_count": null,
      "outputs": [
        {
          "output_type": "stream",
          "name": "stdout",
          "text": [
            "the area of rectangle with lenght:10 and breath:5 is 50 \n"
          ]
        }
      ]
    },
    {
      "cell_type": "code",
      "source": [
        "# HW = calculate the area of atleast 3 shapes except rectangle and circle"
      ],
      "metadata": {
        "id": "2SrplS-hjR3f"
      },
      "execution_count": null,
      "outputs": []
    },
    {
      "cell_type": "code",
      "source": [
        "pi = 3.14"
      ],
      "metadata": {
        "id": "-7MbC6MKlNTd"
      },
      "execution_count": 1,
      "outputs": []
    },
    {
      "cell_type": "code",
      "source": [
        "# Rhomboid area\n",
        "base_rhomboid = 5\n",
        "height_rhomboid = 3\n",
        "area_rhomboid = base_rhomboid * height_rhomboid\n",
        "print(f\"Rhomboid area: {area_rhomboid}\")"
      ],
      "metadata": {
        "id": "XnTGgFUVymF0",
        "outputId": "8b0e4e99-82ee-42f9-f6e8-f77da074dc4f",
        "colab": {
          "base_uri": "https://localhost:8080/"
        }
      },
      "execution_count": 2,
      "outputs": [
        {
          "output_type": "stream",
          "name": "stdout",
          "text": [
            "Rhomboid area: 15\n"
          ]
        }
      ]
    },
    {
      "cell_type": "code",
      "source": [
        "# Parallelogram area\n",
        "base_parallelogram = 6\n",
        "height_parallelogram = 4\n",
        "area_parallelogram = base_parallelogram * height_parallelogram\n",
        "print(f\"Parallelogram area: {area_parallelogram}\")"
      ],
      "metadata": {
        "id": "nk5VswygyzL9",
        "outputId": "a989bf1c-0ee1-4684-81c5-729f7856dbf0",
        "colab": {
          "base_uri": "https://localhost:8080/"
        }
      },
      "execution_count": 3,
      "outputs": [
        {
          "output_type": "stream",
          "name": "stdout",
          "text": [
            "Parallelogram area: 24\n"
          ]
        }
      ]
    },
    {
      "cell_type": "code",
      "source": [
        "# Cone surface area: π * r * (r + slant_height)\n",
        "radius_cone = 3\n",
        "slant_height_cone = 5\n",
        "area_cone = pi * radius_cone * (radius_cone + slant_height_cone)\n",
        "print(f\"Cone surface area: {area_cone}\")"
      ],
      "metadata": {
        "id": "-qWa6dOTU38T",
        "outputId": "447f8a4b-137d-4939-ca74-ac5a454e01f0",
        "colab": {
          "base_uri": "https://localhost:8080/"
        }
      },
      "execution_count": 4,
      "outputs": [
        {
          "output_type": "stream",
          "name": "stdout",
          "text": [
            "Cone surface area: 75.36\n"
          ]
        }
      ]
    }
  ]
}