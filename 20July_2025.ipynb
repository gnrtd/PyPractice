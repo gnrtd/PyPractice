{
  "nbformat": 4,
  "nbformat_minor": 0,
  "metadata": {
    "colab": {
      "provenance": [],
      "authorship_tag": "ABX9TyOBNixs7W6teFiO+t3CpnP9",
      "include_colab_link": true
    },
    "kernelspec": {
      "name": "python3",
      "display_name": "Python 3"
    },
    "language_info": {
      "name": "python"
    }
  },
  "cells": [
    {
      "cell_type": "markdown",
      "metadata": {
        "id": "view-in-github",
        "colab_type": "text"
      },
      "source": [
        "<a href=\"https://colab.research.google.com/github/gnrtd/PyPractice/blob/main/20July_2025.ipynb\" target=\"_parent\"><img src=\"https://colab.research.google.com/assets/colab-badge.svg\" alt=\"Open In Colab\"/></a>"
      ]
    },
    {
      "cell_type": "code",
      "execution_count": null,
      "metadata": {
        "id": "bFYz687BbNq-"
      },
      "outputs": [],
      "source": [
        "# Loops"
      ]
    },
    {
      "cell_type": "code",
      "source": [
        "for i in range(5):\n",
        "  print(i)\n",
        "  print('hi')\n",
        "print('bye')\n"
      ],
      "metadata": {
        "colab": {
          "base_uri": "https://localhost:8080/"
        },
        "id": "AyqQz1wGeckB",
        "outputId": "db8f74b8-10a5-4995-df07-368d0d2621db"
      },
      "execution_count": null,
      "outputs": [
        {
          "output_type": "stream",
          "name": "stdout",
          "text": [
            "0\n",
            "hi\n",
            "1\n",
            "hi\n",
            "2\n",
            "hi\n",
            "3\n",
            "hi\n",
            "4\n",
            "hi\n",
            "bye\n"
          ]
        }
      ]
    },
    {
      "cell_type": "code",
      "source": [
        "a = '#'\n",
        "for i in range(10):\n",
        "  print(a)\n",
        "  print(i)\n",
        "print(i)"
      ],
      "metadata": {
        "colab": {
          "base_uri": "https://localhost:8080/"
        },
        "id": "zU_KwrvCeq1-",
        "outputId": "9401e5e5-1f0e-4d83-b6a6-766acacfab28"
      },
      "execution_count": null,
      "outputs": [
        {
          "output_type": "stream",
          "name": "stdout",
          "text": [
            "#\n",
            "0\n",
            "#\n",
            "1\n",
            "#\n",
            "2\n",
            "#\n",
            "3\n",
            "#\n",
            "4\n",
            "#\n",
            "5\n",
            "#\n",
            "6\n",
            "#\n",
            "7\n",
            "#\n",
            "8\n",
            "#\n",
            "9\n",
            "9\n"
          ]
        }
      ]
    },
    {
      "cell_type": "markdown",
      "source": [
        " Print First 10 natural numbers using while loop\n",
        " (o...to...10)"
      ],
      "metadata": {
        "id": "-hztm7YYQSwr"
      }
    },
    {
      "cell_type": "code",
      "source": [
        "for i in range(0,11):\n",
        "  print(i)"
      ],
      "metadata": {
        "colab": {
          "base_uri": "https://localhost:8080/"
        },
        "id": "GKHb9xg6QXk-",
        "outputId": "89958b96-f1fb-490c-f0bc-603178722eac"
      },
      "execution_count": null,
      "outputs": [
        {
          "output_type": "stream",
          "name": "stdout",
          "text": [
            "0\n",
            "1\n",
            "2\n",
            "3\n",
            "4\n",
            "5\n",
            "6\n",
            "7\n",
            "8\n",
            "9\n",
            "10\n"
          ]
        }
      ]
    },
    {
      "cell_type": "markdown",
      "source": [
        "Calculate the sum of all numbers from 1 to a given number"
      ],
      "metadata": {
        "id": "V_BhFqYXQdPl"
      }
    },
    {
      "cell_type": "code",
      "source": [
        "n = int(input('Enter the number '))\n",
        "total = 0\n",
        "for i in range(1,n+1):\n",
        "  total = total + i\n",
        "print(total)"
      ],
      "metadata": {
        "colab": {
          "base_uri": "https://localhost:8080/"
        },
        "id": "J4Lx79n6QeGm",
        "outputId": "e4709730-4528-47e1-c4e0-7fe5ede659af"
      },
      "execution_count": null,
      "outputs": [
        {
          "output_type": "stream",
          "name": "stdout",
          "text": [
            "Enter the number 6\n",
            "21\n"
          ]
        }
      ]
    },
    {
      "cell_type": "markdown",
      "source": [
        "Print list in reverse order using a loop"
      ],
      "metadata": {
        "id": "FttvmPa6Qvcn"
      }
    },
    {
      "cell_type": "code",
      "source": [
        "L = ['a','b','c','d','e']\n",
        "for i in range(len(L)-1,-1,-1):\n",
        "  print(L[i])"
      ],
      "metadata": {
        "colab": {
          "base_uri": "https://localhost:8080/"
        },
        "id": "xnJQ8udcQ1wc",
        "outputId": "be96d3b4-bc0a-49c5-af27-e4887c79d11d"
      },
      "execution_count": null,
      "outputs": [
        {
          "output_type": "stream",
          "name": "stdout",
          "text": [
            "e\n",
            "d\n",
            "c\n",
            "b\n",
            "a\n"
          ]
        }
      ]
    },
    {
      "cell_type": "code",
      "source": [
        "for i in L[::-1]:\n",
        "  print(i)"
      ],
      "metadata": {
        "colab": {
          "base_uri": "https://localhost:8080/"
        },
        "id": "D9c_x8RtQ4G5",
        "outputId": "5acebd66-c506-4f96-c19e-c773240fe070"
      },
      "execution_count": null,
      "outputs": [
        {
          "output_type": "stream",
          "name": "stdout",
          "text": [
            "e\n",
            "d\n",
            "c\n",
            "b\n",
            "a\n"
          ]
        }
      ]
    },
    {
      "cell_type": "markdown",
      "source": [
        "Display numbers from -10 to -1 using for loop"
      ],
      "metadata": {
        "id": "gwSkJVZ0Q711"
      }
    },
    {
      "cell_type": "code",
      "source": [
        "for i in range(-10,0,1):\n",
        "  print(i)"
      ],
      "metadata": {
        "colab": {
          "base_uri": "https://localhost:8080/"
        },
        "id": "wlOhjeEeQ8_8",
        "outputId": "a88c20af-355f-4ed7-9fda-9043b33e653a"
      },
      "execution_count": null,
      "outputs": [
        {
          "output_type": "stream",
          "name": "stdout",
          "text": [
            "-10\n",
            "-9\n",
            "-8\n",
            "-7\n",
            "-6\n",
            "-5\n",
            "-4\n",
            "-3\n",
            "-2\n",
            "-1\n"
          ]
        }
      ]
    },
    {
      "cell_type": "code",
      "source": [
        "# fibonacci"
      ],
      "metadata": {
        "id": "Vmj9H9EVgQ5x"
      },
      "execution_count": null,
      "outputs": []
    },
    {
      "cell_type": "markdown",
      "source": [
        "Display Fibonacci series up to 10 terms\n",
        "The Fibonacci Sequence is a series of numbers. The next number is found by adding up the two numbers before it. The first two numbers are 0 and 1.\n",
        "\n",
        "For example, 0, 1, 1, 2, 3, 5, 8, 13, 21. The next number in this series above is 13+21 = 34.\n",
        "Fibonacci sequence:\n",
        "0  1  1  2  3  5  8  13  21  34"
      ],
      "metadata": {
        "id": "RjslNNT3P0_l"
      }
    },
    {
      "cell_type": "code",
      "source": [
        "a = 0\n",
        "b = 1\n",
        "n = int(input('numbers of fibo series you want '))\n",
        "print(f'f0: {a}')\n",
        "print(f'f1: {b}')\n",
        "for i in range(2,n):\n",
        "  c = a + b\n",
        "  print(f'f1{i}: {c}')\n",
        "  a = b\n",
        "  b = c"
      ],
      "metadata": {
        "colab": {
          "base_uri": "https://localhost:8080/"
        },
        "id": "-pJC0zNoqp5i",
        "outputId": "232e6543-86ac-460b-c914-f1e27111823b"
      },
      "execution_count": null,
      "outputs": [
        {
          "output_type": "stream",
          "name": "stdout",
          "text": [
            "numbers of fibo series you want 10\n",
            "f0: 0\n",
            "f1: 1\n",
            "f12: 1\n",
            "f13: 2\n",
            "f14: 3\n",
            "f15: 5\n",
            "f16: 8\n",
            "f17: 13\n",
            "f18: 21\n",
            "f19: 34\n"
          ]
        }
      ]
    },
    {
      "cell_type": "code",
      "source": [
        "a = 0\n",
        "b = 1\n",
        "print(a)\n",
        "print(b)\n",
        "for i in range(20):\n",
        "  c = a + b\n",
        "  print(c)\n",
        "  a = b\n",
        "  b = c"
      ],
      "metadata": {
        "id": "LTwvkFQoRtoj",
        "outputId": "b28507c3-4849-482d-83cb-3a171217ad58",
        "colab": {
          "base_uri": "https://localhost:8080/"
        }
      },
      "execution_count": null,
      "outputs": [
        {
          "output_type": "stream",
          "name": "stdout",
          "text": [
            "0\n",
            "1\n",
            "1\n",
            "2\n",
            "3\n",
            "5\n",
            "8\n",
            "13\n",
            "21\n",
            "34\n",
            "55\n",
            "89\n",
            "144\n",
            "233\n",
            "377\n",
            "610\n",
            "987\n",
            "1597\n",
            "2584\n",
            "4181\n",
            "6765\n",
            "10946\n"
          ]
        }
      ]
    },
    {
      "cell_type": "code",
      "source": [
        "# table of\n",
        "for i in range(1,11):\n",
        "  print(2,'x',i,'=',2*i)"
      ],
      "metadata": {
        "colab": {
          "base_uri": "https://localhost:8080/"
        },
        "id": "I680a9HHPhvD",
        "outputId": "7693fd1c-5647-4c57-d9ba-845b7b1c0799"
      },
      "execution_count": null,
      "outputs": [
        {
          "output_type": "stream",
          "name": "stdout",
          "text": [
            "2 x 1 = 2\n",
            "2 x 2 = 4\n",
            "2 x 3 = 6\n",
            "2 x 4 = 8\n",
            "2 x 5 = 10\n",
            "2 x 6 = 12\n",
            "2 x 7 = 14\n",
            "2 x 8 = 16\n",
            "2 x 9 = 18\n",
            "2 x 10 = 20\n"
          ]
        }
      ]
    },
    {
      "cell_type": "code",
      "source": [
        "fact = 1\n",
        "number = int(input('Enter the number'))\n",
        "for i in range(1,number+1):\n",
        "  fact = fact * i\n",
        "print(f'the factorical of {number} is {fact}')"
      ],
      "metadata": {
        "colab": {
          "base_uri": "https://localhost:8080/"
        },
        "id": "d_qR6-E2Phka",
        "outputId": "92de8145-05b7-4ca4-8662-13cabe48e55f"
      },
      "execution_count": null,
      "outputs": [
        {
          "output_type": "stream",
          "name": "stdout",
          "text": [
            "Enter the number10\n",
            "the factorical of 10 is 3628800\n"
          ]
        }
      ]
    },
    {
      "cell_type": "code",
      "source": [
        "a = 5\n",
        "for i in range(1,11):\n",
        "  b = a * i\n",
        "  print(f'{a} x {i} = {b}')"
      ],
      "metadata": {
        "colab": {
          "base_uri": "https://localhost:8080/"
        },
        "id": "vsdfaSkLsFyR",
        "outputId": "92f39320-3b0c-4f74-f212-bc29fdb11af5"
      },
      "execution_count": null,
      "outputs": [
        {
          "output_type": "stream",
          "name": "stdout",
          "text": [
            "5 x 1 = 5\n",
            "5 x 2 = 10\n",
            "5 x 3 = 15\n",
            "5 x 4 = 20\n",
            "5 x 5 = 25\n",
            "5 x 6 = 30\n",
            "5 x 7 = 35\n",
            "5 x 8 = 40\n",
            "5 x 9 = 45\n",
            "5 x 10 = 50\n"
          ]
        }
      ]
    },
    {
      "cell_type": "code",
      "source": [
        "for i in range(1,11):\n",
        "  print(f'5 x {i} = {5 * i}')"
      ],
      "metadata": {
        "colab": {
          "base_uri": "https://localhost:8080/"
        },
        "id": "YhO_W77BsqPD",
        "outputId": "d4084cf1-101a-499c-c43d-6b846cd32661"
      },
      "execution_count": null,
      "outputs": [
        {
          "output_type": "stream",
          "name": "stdout",
          "text": [
            "5 x 1 = 5\n",
            "5 x 2 = 10\n",
            "5 x 3 = 15\n",
            "5 x 4 = 20\n",
            "5 x 5 = 25\n",
            "5 x 6 = 30\n",
            "5 x 7 = 35\n",
            "5 x 8 = 40\n",
            "5 x 9 = 45\n",
            "5 x 10 = 50\n"
          ]
        }
      ]
    },
    {
      "cell_type": "code",
      "source": [
        "n = int(input('Enter a number to generate a table: '))\n",
        "for i in range(1,11):\n",
        "  print(f'{n} x {i} = {n * 1}')"
      ],
      "metadata": {
        "colab": {
          "base_uri": "https://localhost:8080/"
        },
        "id": "VjI3Lh4QtpiG",
        "outputId": "d5303c03-5608-4521-da27-aaf5c51e82ad"
      },
      "execution_count": null,
      "outputs": [
        {
          "output_type": "stream",
          "name": "stdout",
          "text": [
            "Enter a number to generate a table: 7\n",
            "7 x 1 = 7\n",
            "7 x 2 = 7\n",
            "7 x 3 = 7\n",
            "7 x 4 = 7\n",
            "7 x 5 = 7\n",
            "7 x 6 = 7\n",
            "7 x 7 = 7\n",
            "7 x 8 = 7\n",
            "7 x 9 = 7\n",
            "7 x 10 = 7\n"
          ]
        }
      ]
    },
    {
      "cell_type": "code",
      "source": [
        "# put even and odd numbers in different lists from common list L\n",
        "L = [2,54,5,16,51,656,6,5,65,10,84,655486,1,25,5,1,1,21]\n",
        "o = []\n",
        "e = []\n",
        "for i in L:\n",
        "  if i % 2 == 0:\n",
        "    e.append(i)\n",
        "  else:\n",
        "    o.append(i)\n",
        "print(o,e)"
      ],
      "metadata": {
        "colab": {
          "base_uri": "https://localhost:8080/"
        },
        "id": "6kyX1tj6vvUw",
        "outputId": "590f8cac-c523-47e6-918d-bd3b1c08857e"
      },
      "execution_count": null,
      "outputs": [
        {
          "output_type": "stream",
          "name": "stdout",
          "text": [
            "[5, 51, 5, 65, 1, 25, 5, 1, 1, 21] [2, 54, 16, 656, 6, 10, 84, 655486]\n"
          ]
        }
      ]
    },
    {
      "cell_type": "code",
      "source": [],
      "metadata": {
        "id": "7HWxnWTxw4RT"
      },
      "execution_count": null,
      "outputs": []
    }
  ]
}