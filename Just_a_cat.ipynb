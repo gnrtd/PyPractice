{
  "nbformat": 4,
  "nbformat_minor": 0,
  "metadata": {
    "colab": {
      "provenance": [],
      "authorship_tag": "ABX9TyMGo+KXlddubsz2f0/kMDTC",
      "include_colab_link": true
    },
    "kernelspec": {
      "name": "python3",
      "display_name": "Python 3"
    },
    "language_info": {
      "name": "python"
    }
  },
  "cells": [
    {
      "cell_type": "markdown",
      "metadata": {
        "id": "view-in-github",
        "colab_type": "text"
      },
      "source": [
        "<a href=\"https://colab.research.google.com/github/gnrtd/PyPractice/blob/main/Just_a_cat.ipynb\" target=\"_parent\"><img src=\"https://colab.research.google.com/assets/colab-badge.svg\" alt=\"Open In Colab\"/></a>"
      ]
    },
    {
      "cell_type": "code",
      "execution_count": null,
      "metadata": {
        "colab": {
          "base_uri": "https://localhost:8080/"
        },
        "id": "59g8DrRmKPMC",
        "outputId": "a35f75c5-d9a7-464c-ed7f-f3508c45f8dd"
      },
      "outputs": [
        {
          "output_type": "stream",
          "name": "stdout",
          "text": [
            " /\\___/\\\n",
            "(  o o  )\n",
            "(  =^=  )\n",
            " (_^_^_)\n"
          ]
        }
      ],
      "source": [
        "print(' /\\\\___/\\\\')\n",
        "print('(  o o  )')\n",
        "print('(  =^=  )')\n",
        "print(' (_^_^_)')"
      ]
    },
    {
      "cell_type": "code",
      "source": [
        "print('   /\\\\')\n",
        "print('  /  \\\\')\n",
        "print(' | O  |')\n",
        "print(' | O  |')\n",
        "print(' | O  |')\n",
        "print(' /____\\\\')\n",
        "print('|______|')"
      ],
      "metadata": {
        "colab": {
          "base_uri": "https://localhost:8080/"
        },
        "id": "cQQVr9x_K44K",
        "outputId": "0c9410d2-4c30-484c-9e92-e3bb3c347887"
      },
      "execution_count": null,
      "outputs": [
        {
          "output_type": "stream",
          "name": "stdout",
          "text": [
            "   /\\\n",
            "  /  \\\n",
            " | O  |\n",
            " | O  |\n",
            " | O  |\n",
            " /____\\\n",
            "|______|\n"
          ]
        }
      ]
    },
    {
      "cell_type": "code",
      "source": [
        "name = input('Enter your name: ')\n",
        "print('Hello,', name + '!')"
      ],
      "metadata": {
        "colab": {
          "base_uri": "https://localhost:8080/"
        },
        "id": "6hQJhBfTL4-c",
        "outputId": "b36bd76c-5d72-435e-ae08-3cf32bdd70aa"
      },
      "execution_count": null,
      "outputs": [
        {
          "output_type": "stream",
          "name": "stdout",
          "text": [
            "Enter your name: Olesia\n",
            "Hello, Olesia!\n"
          ]
        }
      ]
    },
    {
      "cell_type": "code",
      "source": [],
      "metadata": {
        "id": "jQTG-4HdP2L8"
      },
      "execution_count": null,
      "outputs": []
    }
  ]
}