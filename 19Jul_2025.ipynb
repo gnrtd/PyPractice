{
  "nbformat": 4,
  "nbformat_minor": 0,
  "metadata": {
    "colab": {
      "provenance": [],
      "authorship_tag": "ABX9TyP++VKFT3jgMalzID8oOOs0",
      "include_colab_link": true
    },
    "kernelspec": {
      "name": "python3",
      "display_name": "Python 3"
    },
    "language_info": {
      "name": "python"
    }
  },
  "cells": [
    {
      "cell_type": "markdown",
      "metadata": {
        "id": "view-in-github",
        "colab_type": "text"
      },
      "source": [
        "<a href=\"https://colab.research.google.com/github/gnrtd/PyPractice/blob/main/19Jul_2025.ipynb\" target=\"_parent\"><img src=\"https://colab.research.google.com/assets/colab-badge.svg\" alt=\"Open In Colab\"/></a>"
      ]
    },
    {
      "cell_type": "code",
      "execution_count": null,
      "metadata": {
        "id": "ZQptOavVQalb"
      },
      "outputs": [],
      "source": [
        "L = ['a', 'b', 'c', 'd', 'e']"
      ]
    },
    {
      "cell_type": "code",
      "source": [
        "L[1::]"
      ],
      "metadata": {
        "colab": {
          "base_uri": "https://localhost:8080/"
        },
        "id": "Wvshue_eRDiC",
        "outputId": "1cbe9816-f442-4f53-e51e-5c780dbbe2a4"
      },
      "execution_count": null,
      "outputs": [
        {
          "output_type": "execute_result",
          "data": {
            "text/plain": [
              "['b', 'c', 'd', 'e']"
            ]
          },
          "metadata": {},
          "execution_count": 3
        }
      ]
    },
    {
      "cell_type": "code",
      "source": [
        "# L. - list methods"
      ],
      "metadata": {
        "id": "_hjTcmjORFhp"
      },
      "execution_count": null,
      "outputs": []
    },
    {
      "cell_type": "code",
      "source": [
        "# HW learn about all the str methods"
      ],
      "metadata": {
        "id": "eb13mA6eRSYg"
      },
      "execution_count": null,
      "outputs": []
    },
    {
      "cell_type": "code",
      "source": [
        "L.append(5)"
      ],
      "metadata": {
        "id": "ANlAbYaeSJmC"
      },
      "execution_count": null,
      "outputs": []
    },
    {
      "cell_type": "code",
      "source": [
        "L"
      ],
      "metadata": {
        "colab": {
          "base_uri": "https://localhost:8080/"
        },
        "id": "oysj-fPnSuw-",
        "outputId": "963ad672-a092-4a1d-cb3c-8a5cf3536eb4"
      },
      "execution_count": null,
      "outputs": [
        {
          "output_type": "execute_result",
          "data": {
            "text/plain": [
              "['a', 'b', 'c', 'd', 'e', 5]"
            ]
          },
          "metadata": {},
          "execution_count": 7
        }
      ]
    },
    {
      "cell_type": "code",
      "source": [
        "L.insert(0,'Hi')"
      ],
      "metadata": {
        "id": "TFNHoI8cSwEF"
      },
      "execution_count": null,
      "outputs": []
    },
    {
      "cell_type": "code",
      "source": [
        "L"
      ],
      "metadata": {
        "colab": {
          "base_uri": "https://localhost:8080/"
        },
        "id": "hcHGBOW2TGT8",
        "outputId": "f3480a83-2b21-4e72-e77d-49390f350a95"
      },
      "execution_count": null,
      "outputs": [
        {
          "output_type": "execute_result",
          "data": {
            "text/plain": [
              "['Hi', 'Hi', 1000, 'c', ['a', 'z', 'b'], 'd', 'e']"
            ]
          },
          "metadata": {},
          "execution_count": 30
        }
      ]
    },
    {
      "cell_type": "code",
      "source": [
        "# add item btw b and c"
      ],
      "metadata": {
        "id": "FWicgiqATHFo"
      },
      "execution_count": null,
      "outputs": []
    },
    {
      "cell_type": "code",
      "source": [
        "L.insert(3,0)"
      ],
      "metadata": {
        "id": "I15aJkj_TUSt"
      },
      "execution_count": null,
      "outputs": []
    },
    {
      "cell_type": "code",
      "source": [
        "L"
      ],
      "metadata": {
        "colab": {
          "base_uri": "https://localhost:8080/"
        },
        "id": "deEFcMHyTXm4",
        "outputId": "f4721c58-bf5c-4463-9c24-75b7f414902f"
      },
      "execution_count": null,
      "outputs": [
        {
          "output_type": "execute_result",
          "data": {
            "text/plain": [
              "['Hi', 'a', 'b', 0, 'c', 'd', 'e', 5]"
            ]
          },
          "metadata": {},
          "execution_count": 10
        }
      ]
    },
    {
      "cell_type": "code",
      "source": [
        "# delete items"
      ],
      "metadata": {
        "id": "QzU2bzc3TZjs"
      },
      "execution_count": null,
      "outputs": []
    },
    {
      "cell_type": "code",
      "source": [
        "L.pop()"
      ],
      "metadata": {
        "colab": {
          "base_uri": "https://localhost:8080/"
        },
        "id": "YBSwsD9rTd51",
        "outputId": "50dd69ff-c299-4a33-b615-42dfac121a7d"
      },
      "execution_count": null,
      "outputs": [
        {
          "output_type": "execute_result",
          "data": {
            "text/plain": [
              "5"
            ]
          },
          "metadata": {},
          "execution_count": 12
        }
      ]
    },
    {
      "cell_type": "code",
      "source": [
        "L"
      ],
      "metadata": {
        "colab": {
          "base_uri": "https://localhost:8080/"
        },
        "id": "K93nPlfATy6Q",
        "outputId": "11494418-3f82-41a2-9c58-75dfb0fea0de"
      },
      "execution_count": null,
      "outputs": [
        {
          "output_type": "execute_result",
          "data": {
            "text/plain": [
              "['Hi', 'a', 'b', 0, 'c', 'd', 'e']"
            ]
          },
          "metadata": {},
          "execution_count": 13
        }
      ]
    },
    {
      "cell_type": "code",
      "source": [
        "L.pop(2)"
      ],
      "metadata": {
        "colab": {
          "base_uri": "https://localhost:8080/",
          "height": 36
        },
        "id": "e51qMgLqT4Tn",
        "outputId": "bce55629-2acc-4235-9991-c991f6a2f660"
      },
      "execution_count": null,
      "outputs": [
        {
          "output_type": "execute_result",
          "data": {
            "text/plain": [
              "'b'"
            ],
            "application/vnd.google.colaboratory.intrinsic+json": {
              "type": "string"
            }
          },
          "metadata": {},
          "execution_count": 14
        }
      ]
    },
    {
      "cell_type": "code",
      "source": [
        "L"
      ],
      "metadata": {
        "colab": {
          "base_uri": "https://localhost:8080/"
        },
        "id": "g0sVj2J6T_ZX",
        "outputId": "816f618c-e50a-40a9-b4a9-b045d166fa3b"
      },
      "execution_count": null,
      "outputs": [
        {
          "output_type": "execute_result",
          "data": {
            "text/plain": [
              "['Hi', 'a', 0, 'c', 'd', 'e']"
            ]
          },
          "metadata": {},
          "execution_count": 15
        }
      ]
    },
    {
      "cell_type": "code",
      "source": [
        "L.remove('a')"
      ],
      "metadata": {
        "id": "xPc-SxsSUABq"
      },
      "execution_count": null,
      "outputs": []
    },
    {
      "cell_type": "code",
      "source": [
        "L"
      ],
      "metadata": {
        "colab": {
          "base_uri": "https://localhost:8080/"
        },
        "id": "n0jk3da0UMQz",
        "outputId": "40bb4aa4-7441-4e15-ab87-1a0d5cf4f7bd"
      },
      "execution_count": null,
      "outputs": [
        {
          "output_type": "execute_result",
          "data": {
            "text/plain": [
              "['Hi', 0, 'c', 'd', 'e']"
            ]
          },
          "metadata": {},
          "execution_count": 17
        }
      ]
    },
    {
      "cell_type": "code",
      "source": [
        "# check out all the other list and string methods"
      ],
      "metadata": {
        "id": "g1KNhnFEUM41"
      },
      "execution_count": null,
      "outputs": []
    },
    {
      "cell_type": "code",
      "source": [
        "L[1] = 1000"
      ],
      "metadata": {
        "id": "-7xDxil5US7J"
      },
      "execution_count": null,
      "outputs": []
    },
    {
      "cell_type": "code",
      "source": [],
      "metadata": {
        "id": "iW32vhHzWmd1"
      },
      "execution_count": null,
      "outputs": []
    },
    {
      "cell_type": "code",
      "source": [
        "L"
      ],
      "metadata": {
        "colab": {
          "base_uri": "https://localhost:8080/"
        },
        "id": "Pd_TtrDkUfye",
        "outputId": "7e5bdd5e-5785-40fb-a07c-9a4a52be849f"
      },
      "execution_count": null,
      "outputs": [
        {
          "output_type": "execute_result",
          "data": {
            "text/plain": [
              "['Hi', 1000, 'c', 'd', 'e']"
            ]
          },
          "metadata": {},
          "execution_count": 20
        }
      ]
    },
    {
      "cell_type": "code",
      "source": [
        "L.insert(3, ['a', 'b'])"
      ],
      "metadata": {
        "id": "DIDHBEdOXdGm"
      },
      "execution_count": null,
      "outputs": []
    },
    {
      "cell_type": "code",
      "source": [
        "L"
      ],
      "metadata": {
        "colab": {
          "base_uri": "https://localhost:8080/"
        },
        "id": "Krp1oVBOXqLm",
        "outputId": "95fedeeb-3fb0-44a6-e76b-9292e1c6740b"
      },
      "execution_count": null,
      "outputs": [
        {
          "output_type": "execute_result",
          "data": {
            "text/plain": [
              "['Hi', 1000, 'c', ['a', 'b'], 'd', 'e']"
            ]
          },
          "metadata": {},
          "execution_count": 22
        }
      ]
    },
    {
      "cell_type": "code",
      "source": [],
      "metadata": {
        "id": "rea0KHiSXq0O"
      },
      "execution_count": null,
      "outputs": []
    },
    {
      "cell_type": "code",
      "source": [
        "L[3].insert(1,'z')"
      ],
      "metadata": {
        "id": "jE0Yb0z2UklL"
      },
      "execution_count": null,
      "outputs": []
    },
    {
      "cell_type": "code",
      "source": [
        "L"
      ],
      "metadata": {
        "colab": {
          "base_uri": "https://localhost:8080/"
        },
        "id": "EAJjaMjaXujQ",
        "outputId": "7b34bfd4-4d0d-4729-c122-c0a57450a7bd"
      },
      "execution_count": null,
      "outputs": [
        {
          "output_type": "execute_result",
          "data": {
            "text/plain": [
              "['Hi', 1000, 'c', ['a', 'z', 'b'], 'd', 'e']"
            ]
          },
          "metadata": {},
          "execution_count": 24
        }
      ]
    },
    {
      "cell_type": "code",
      "source": [
        "# conditional operators"
      ],
      "metadata": {
        "id": "nPZFVnmwXvzc"
      },
      "execution_count": null,
      "outputs": []
    },
    {
      "cell_type": "code",
      "source": [
        "if 2000 > 1000:\n",
        "  print('discount')\n",
        "  print('applied')\n",
        "print('bye')\n"
      ],
      "metadata": {
        "colab": {
          "base_uri": "https://localhost:8080/"
        },
        "id": "I739TWwcY9Ne",
        "outputId": "66f719a2-186b-45b1-b7a0-1ebfb749f496"
      },
      "execution_count": null,
      "outputs": [
        {
          "output_type": "stream",
          "name": "stdout",
          "text": [
            "discount\n",
            "applied\n",
            "bye\n"
          ]
        }
      ]
    },
    {
      "cell_type": "code",
      "source": [
        "if 1000 >= 1000:\n",
        "  print('discount')\n",
        "else:\n",
        "  print('no discount')"
      ],
      "metadata": {
        "colab": {
          "base_uri": "https://localhost:8080/"
        },
        "id": "qgWYvnFAY_xN",
        "outputId": "9986d88d-7ac1-4b57-b443-2dbc2c659597"
      },
      "execution_count": null,
      "outputs": [
        {
          "output_type": "stream",
          "name": "stdout",
          "text": [
            "discount\n"
          ]
        }
      ]
    },
    {
      "cell_type": "code",
      "source": [
        "if 3>3:\n",
        "  print('1')\n",
        "\n",
        "if 6>3:\n",
        "  print('true')\n",
        "else:\n",
        "  print('a')"
      ],
      "metadata": {
        "colab": {
          "base_uri": "https://localhost:8080/"
        },
        "id": "3TyaTRVhaoJN",
        "outputId": "6f5aced3-4941-4440-9f54-b8f2c4bec413"
      },
      "execution_count": null,
      "outputs": [
        {
          "output_type": "stream",
          "name": "stdout",
          "text": [
            "true\n"
          ]
        }
      ]
    },
    {
      "cell_type": "code",
      "source": [
        "n = int(input('Enter the number'))\n",
        "if n % 2 == 0:\n",
        "  print('even')\n",
        "else:\n",
        "  print('odd')"
      ],
      "metadata": {
        "colab": {
          "base_uri": "https://localhost:8080/"
        },
        "id": "bWdT7Xx-gY9j",
        "outputId": "f233d9ec-c110-480a-cc60-aaac776c541e"
      },
      "execution_count": null,
      "outputs": [
        {
          "output_type": "stream",
          "name": "stdout",
          "text": [
            "Enter the number10\n",
            "even\n"
          ]
        }
      ]
    },
    {
      "cell_type": "code",
      "source": [
        "n = int(input('Enter the number'))\n",
        "if n % 5 == 0:\n",
        "  print('divisible by 5')\n",
        "else:\n",
        "  print('not divisible by 5')"
      ],
      "metadata": {
        "colab": {
          "base_uri": "https://localhost:8080/"
        },
        "id": "_01uaAz0guZo",
        "outputId": "6984f37f-641a-4181-87e6-98b1169026c9"
      },
      "execution_count": null,
      "outputs": [
        {
          "output_type": "stream",
          "name": "stdout",
          "text": [
            "Enter the number22\n",
            "not divisible by 5\n"
          ]
        }
      ]
    },
    {
      "cell_type": "code",
      "source": [
        "n = int(input('Enter the number'))\n",
        "if n > 0:\n",
        "  print('positive')\n",
        "elif n < 0:\n",
        "  print('negative')\n",
        "elif n == 0:\n",
        "  print('zero')"
      ],
      "metadata": {
        "colab": {
          "base_uri": "https://localhost:8080/"
        },
        "id": "OiDvXSRShcwb",
        "outputId": "75ed8ce6-a60e-4acb-ac71-c01ce262f270"
      },
      "execution_count": null,
      "outputs": [
        {
          "output_type": "stream",
          "name": "stdout",
          "text": [
            "Enter the number0\n",
            "zero\n"
          ]
        }
      ]
    },
    {
      "cell_type": "code",
      "source": [
        "0"
      ],
      "metadata": {
        "colab": {
          "base_uri": "https://localhost:8080/"
        },
        "id": "Cv56nKU2h8dK",
        "outputId": "5ebd31b3-e315-4ea4-cb3e-86721c1fe02e"
      },
      "execution_count": null,
      "outputs": [
        {
          "output_type": "execute_result",
          "data": {
            "text/plain": [
              "0"
            ]
          },
          "metadata": {},
          "execution_count": 64
        }
      ]
    },
    {
      "cell_type": "code",
      "source": [
        "n = input('enter a number')\n",
        "digits = len(n)\n",
        "if digits == 1:\n",
        "  print ('one digit')\n",
        "elif digits == 2:\n",
        "  print ('two-digit')\n",
        "elif digits == 3\n",
        "  print('three digits')\n",
        "else:\n",
        "  print('i dont know')"
      ],
      "metadata": {
        "colab": {
          "base_uri": "https://localhost:8080/"
        },
        "id": "Vo5lweg1kG22",
        "outputId": "b7100c12-fe66-403b-9647-df6e7cbec493"
      },
      "execution_count": null,
      "outputs": [
        {
          "output_type": "stream",
          "name": "stdout",
          "text": [
            "enter a number54\n",
            "two-digit\n"
          ]
        }
      ]
    },
    {
      "cell_type": "code",
      "source": [
        "n = int(input('Enter the number'))\n",
        "if n >= 0 and n <= 9:\n",
        "  print('one digit')\n",
        "elif n >= 10 and n <= 99:\n",
        "  print('two-digit')\n",
        "elif n >= 100 and n <= 999:\n",
        "  print('three digit')"
      ],
      "metadata": {
        "colab": {
          "base_uri": "https://localhost:8080/"
        },
        "id": "EM0XiuABiOrM",
        "outputId": "fd4b328d-2211-4c56-97eb-b5ca3f61afab"
      },
      "execution_count": null,
      "outputs": [
        {
          "output_type": "stream",
          "name": "stdout",
          "text": [
            "Enter the number785\n",
            "three digit\n"
          ]
        }
      ]
    },
    {
      "cell_type": "code",
      "source": [
        "name = input('Enter the name')\n",
        "age = int(input('Enter your age'))\n",
        "cc = int(input('Enter your cc'))\n",
        "city = input('Enter your city')\n",
        "\n",
        "if name == 'sumit' or city != 'delhi' or age <= 18 or cc <= 700:\n",
        "  print ('rejected')\n",
        "else:\n",
        "  salary = int(input('Enter your salary'))\n",
        "  if salary > 100000:\n",
        "    print('accepted')\n",
        "  else:\n",
        "    bb = int(input('Enter your bb'))\n",
        "    if bb > 50000:\n",
        "      print('accepted')\n",
        "    else:\n",
        "      print('rejected')"
      ],
      "metadata": {
        "colab": {
          "base_uri": "https://localhost:8080/"
        },
        "id": "Lv5QWRQjkbg0",
        "outputId": "55d48d56-6f18-4597-e117-8bb330e4ea4c"
      },
      "execution_count": null,
      "outputs": [
        {
          "output_type": "stream",
          "name": "stdout",
          "text": [
            "Enter the nameSumit\n",
            "Enter your age54\n",
            "Enter your cc1000\n",
            "Enter your cityDelhi\n",
            "Enter your salary100000\n",
            "Enter your bb500000\n",
            "accepted\n"
          ]
        }
      ]
    },
    {
      "cell_type": "code",
      "source": [
        "# HW"
      ],
      "metadata": {
        "id": "s6ryfp0qoVET"
      },
      "execution_count": null,
      "outputs": []
    },
    {
      "cell_type": "code",
      "source": [
        "# Read product code and order amount\n",
        "product_code = int(input(\"Enter product code (1: Battery, 2: Key-based, 3: Electrical): \"))\n",
        "order_amount = float(input(\"Enter order amount (Rs): \"))\n",
        "\n",
        "# Set discount thresholds and rates\n",
        "discount = 0\n",
        "if product_code == 1 and order_amount > 1000:\n",
        "    discount = 0.10\n",
        "elif product_code == 2 and order_amount > 100:\n",
        "    discount = 0.05\n",
        "elif product_code == 3 and order_amount > 500:\n",
        "    discount = 0.10\n",
        "\n",
        "# Calculate net amount after discount\n",
        "net_amount = order_amount * (1 - discount)\n",
        "\n",
        "# Output result\n",
        "print(f\"Net amount to pay after discount: Rs {net_amount:.2f}\")\n"
      ],
      "metadata": {
        "colab": {
          "base_uri": "https://localhost:8080/"
        },
        "id": "Ww4qJMoRXHb7",
        "outputId": "06af72fb-e5c3-4182-848d-447269ec7634"
      },
      "execution_count": null,
      "outputs": [
        {
          "output_type": "stream",
          "name": "stdout",
          "text": [
            "Enter product code (1: Battery, 2: Key-based, 3: Electrical): 3\n",
            "Enter order amount (Rs): 5\n",
            "Net amount to pay after discount: Rs 5.00\n"
          ]
        }
      ]
    },
    {
      "cell_type": "code",
      "source": [
        "product_code = int(input('Enter product code: '))\n",
        "order_amount = float(input('Enter order amount: '))\n",
        "\n",
        "if product_code == 1 and order_amount > 1000:\n",
        "  print(order_amount * (1 - 0.10))\n",
        "\n",
        "elif product_code == 2 and order_amount > 100:\n",
        "  print(order_amount * (1 - 0.05))\n",
        "\n",
        "elif product_code == 3 and order_amount > 500:\n",
        "  print(order_amount * (1 - 0.10))"
      ],
      "metadata": {
        "colab": {
          "base_uri": "https://localhost:8080/"
        },
        "id": "BPXKySwcXK2Z",
        "outputId": "fc92d4fa-3836-4e9d-baad-c72429691e06"
      },
      "execution_count": null,
      "outputs": [
        {
          "output_type": "stream",
          "name": "stdout",
          "text": [
            "Enter product code: 2\n",
            "Enter order amount: 500\n",
            "475.0\n"
          ]
        }
      ]
    },
    {
      "cell_type": "code",
      "source": [],
      "metadata": {
        "id": "Pu5B2JbhXeAj"
      },
      "execution_count": null,
      "outputs": []
    }
  ]
}