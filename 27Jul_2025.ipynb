{
  "nbformat": 4,
  "nbformat_minor": 0,
  "metadata": {
    "colab": {
      "provenance": [],
      "authorship_tag": "ABX9TyNSzxxO/taT8+PUPBk/Yyns",
      "include_colab_link": true
    },
    "kernelspec": {
      "name": "python3",
      "display_name": "Python 3"
    },
    "language_info": {
      "name": "python"
    }
  },
  "cells": [
    {
      "cell_type": "markdown",
      "metadata": {
        "id": "view-in-github",
        "colab_type": "text"
      },
      "source": [
        "<a href=\"https://colab.research.google.com/github/gnrtd/PyPractice/blob/main/27Jul_2025.ipynb\" target=\"_parent\"><img src=\"https://colab.research.google.com/assets/colab-badge.svg\" alt=\"Open In Colab\"/></a>"
      ]
    },
    {
      "cell_type": "markdown",
      "source": [
        "Functions\n",
        "\n",
        "\n",
        "*   reusable block of code\n",
        "\n"
      ],
      "metadata": {
        "id": "MKe9O8Z4dST5"
      }
    },
    {
      "cell_type": "code",
      "execution_count": null,
      "metadata": {
        "id": "ILZv9JsPcv68"
      },
      "outputs": [],
      "source": [
        "# functions - built in functions\n",
        "# user defined functions\n"
      ]
    },
    {
      "cell_type": "code",
      "source": [
        "# L.pop() - after dot is method"
      ],
      "metadata": {
        "id": "yyBwrWDZc3-Q"
      },
      "execution_count": null,
      "outputs": []
    },
    {
      "cell_type": "code",
      "source": [
        "L = [1,5,651,5,4,6,51,85]"
      ],
      "metadata": {
        "id": "TxyYveQ7d-pE"
      },
      "execution_count": null,
      "outputs": []
    },
    {
      "cell_type": "code",
      "source": [
        "sum(L)"
      ],
      "metadata": {
        "colab": {
          "base_uri": "https://localhost:8080/"
        },
        "id": "mRGCaXhjec5I",
        "outputId": "9e9a170d-70fc-4d03-e908-eb9af968caac"
      },
      "execution_count": null,
      "outputs": [
        {
          "output_type": "execute_result",
          "data": {
            "text/plain": [
              "808"
            ]
          },
          "metadata": {},
          "execution_count": 6
        }
      ]
    },
    {
      "cell_type": "code",
      "source": [
        "max(L)"
      ],
      "metadata": {
        "colab": {
          "base_uri": "https://localhost:8080/"
        },
        "id": "3vCM-gVMee2A",
        "outputId": "b3c0493e-e3fe-4857-feb1-d3c466be1049"
      },
      "execution_count": null,
      "outputs": [
        {
          "output_type": "execute_result",
          "data": {
            "text/plain": [
              "651"
            ]
          },
          "metadata": {},
          "execution_count": 7
        }
      ]
    },
    {
      "cell_type": "code",
      "source": [
        "min(L)"
      ],
      "metadata": {
        "colab": {
          "base_uri": "https://localhost:8080/"
        },
        "id": "vlvHv5LeegTH",
        "outputId": "e7edcc27-c970-41f4-c5bc-8ae23fc49e01"
      },
      "execution_count": null,
      "outputs": [
        {
          "output_type": "execute_result",
          "data": {
            "text/plain": [
              "1"
            ]
          },
          "metadata": {},
          "execution_count": 8
        }
      ]
    },
    {
      "cell_type": "code",
      "source": [
        "def sum2(a,b):  #name(arguments)\n",
        "  print(a + b)  #body of the function"
      ],
      "metadata": {
        "id": "aLyFwFZ-eiE8"
      },
      "execution_count": null,
      "outputs": []
    },
    {
      "cell_type": "code",
      "source": [
        "sum2(4,8)       #call the function"
      ],
      "metadata": {
        "colab": {
          "base_uri": "https://localhost:8080/"
        },
        "id": "hu1ixYyTfm5Z",
        "outputId": "7a6787db-10a3-4afa-f23d-8a47510571ab"
      },
      "execution_count": null,
      "outputs": [
        {
          "output_type": "stream",
          "name": "stdout",
          "text": [
            "12\n"
          ]
        }
      ]
    },
    {
      "cell_type": "code",
      "source": [
        "result = sum2(2,2)"
      ],
      "metadata": {
        "colab": {
          "base_uri": "https://localhost:8080/"
        },
        "id": "ZfNQ3YHHf08r",
        "outputId": "d954c528-74f2-4e7a-877f-33e9204fcad4"
      },
      "execution_count": null,
      "outputs": [
        {
          "output_type": "stream",
          "name": "stdout",
          "text": [
            "4\n"
          ]
        }
      ]
    },
    {
      "cell_type": "code",
      "source": [
        "print(result)"
      ],
      "metadata": {
        "colab": {
          "base_uri": "https://localhost:8080/"
        },
        "id": "yDoRK25ZgHZh",
        "outputId": "d4941a59-af05-4df9-f164-6a5352ce912b"
      },
      "execution_count": null,
      "outputs": [
        {
          "output_type": "stream",
          "name": "stdout",
          "text": [
            "None\n"
          ]
        }
      ]
    },
    {
      "cell_type": "code",
      "source": [
        "'''\n",
        "- return is a keyword in a function\n",
        "- used to give a value back\n",
        "- if return is not there what will function give back - nothing\n",
        "- once return is executed function is terminated\n",
        "'''"
      ],
      "metadata": {
        "colab": {
          "base_uri": "https://localhost:8080/",
          "height": 54
        },
        "id": "KJA3lamzgTHe",
        "outputId": "37f2e506-e7aa-4aff-df25-cd5d0676e234"
      },
      "execution_count": null,
      "outputs": [
        {
          "output_type": "execute_result",
          "data": {
            "text/plain": [
              "'\\n- return is a keyword in a function\\n- used to give a value back\\n- if return is not there what will function give back - nothing\\n- once return is executed function is terminated\\n'"
            ],
            "application/vnd.google.colaboratory.intrinsic+json": {
              "type": "string"
            }
          },
          "metadata": {},
          "execution_count": 13
        }
      ]
    },
    {
      "cell_type": "code",
      "source": [
        "def sum2(a,b):\n",
        "  return a + b"
      ],
      "metadata": {
        "id": "Sge0KjtPg1EK"
      },
      "execution_count": null,
      "outputs": []
    },
    {
      "cell_type": "code",
      "source": [
        "result = sum2(2,3)"
      ],
      "metadata": {
        "id": "10vgDhROg6qG"
      },
      "execution_count": null,
      "outputs": []
    },
    {
      "cell_type": "code",
      "source": [
        "print(result)"
      ],
      "metadata": {
        "colab": {
          "base_uri": "https://localhost:8080/"
        },
        "id": "a67Sw6wMg9MB",
        "outputId": "a85dd771-0d94-42c0-a91e-b06072b33804"
      },
      "execution_count": null,
      "outputs": [
        {
          "output_type": "stream",
          "name": "stdout",
          "text": [
            "5\n"
          ]
        }
      ]
    },
    {
      "cell_type": "code",
      "source": [
        "def area(L,B):\n",
        "  return L * B"
      ],
      "metadata": {
        "id": "PN4qlquChBST"
      },
      "execution_count": null,
      "outputs": []
    },
    {
      "cell_type": "code",
      "source": [
        "area(4,4)"
      ],
      "metadata": {
        "colab": {
          "base_uri": "https://localhost:8080/"
        },
        "id": "u4oY8WDdhV_i",
        "outputId": "8d291cc0-4b7f-4014-bba1-14adc1c8c823"
      },
      "execution_count": null,
      "outputs": [
        {
          "output_type": "execute_result",
          "data": {
            "text/plain": [
              "16"
            ]
          },
          "metadata": {},
          "execution_count": 18
        }
      ]
    },
    {
      "cell_type": "code",
      "source": [
        "def odd_even(a):\n",
        "  odd = []\n",
        "  even = []\n",
        "  for i in a:\n",
        "     if i % 2 == 0:\n",
        "       even.append(i)\n",
        "     else:\n",
        "       odd.append(i)\n",
        "  return odd, even\n"
      ],
      "metadata": {
        "id": "CC8uJ2M0hXjI"
      },
      "execution_count": null,
      "outputs": []
    },
    {
      "cell_type": "code",
      "source": [
        "odd_even([5,65,8,1,21,8,74,561,521])"
      ],
      "metadata": {
        "colab": {
          "base_uri": "https://localhost:8080/"
        },
        "id": "aQBE-kzzh_a5",
        "outputId": "c0e09180-97f6-4119-cd55-5ffe763e4057"
      },
      "execution_count": null,
      "outputs": [
        {
          "output_type": "execute_result",
          "data": {
            "text/plain": [
              "([5, 65, 1, 21, 561, 521], [8, 8, 74])"
            ]
          },
          "metadata": {},
          "execution_count": 22
        }
      ]
    },
    {
      "cell_type": "code",
      "source": [
        "def sum_int_only(L):\n",
        "  new = []\n",
        "  for i in L:\n",
        "    if type(i) == int:\n",
        "      new.append(i)\n",
        "  result = sum(new)\n",
        "  return result"
      ],
      "metadata": {
        "id": "iglD2ZDklvh5"
      },
      "execution_count": null,
      "outputs": []
    },
    {
      "cell_type": "code",
      "source": [
        "sum_int_only([4,6,'sumit',4.6,5])"
      ],
      "metadata": {
        "colab": {
          "base_uri": "https://localhost:8080/"
        },
        "id": "AXYMxZsdqkLg",
        "outputId": "61b1b31f-7a6f-4f82-ae1b-afc50e6cad47"
      },
      "execution_count": null,
      "outputs": [
        {
          "output_type": "execute_result",
          "data": {
            "text/plain": [
              "15"
            ]
          },
          "metadata": {},
          "execution_count": 34
        }
      ]
    },
    {
      "cell_type": "code",
      "source": [
        "def odd_even(n):\n",
        "  if n % 2 == 0:\n",
        "    return 'even'\n",
        "  else:\n",
        "    return 'odd'"
      ],
      "metadata": {
        "id": "rmhAkD1Hq6pw"
      },
      "execution_count": null,
      "outputs": []
    },
    {
      "cell_type": "code",
      "source": [
        "odd_even(50)"
      ],
      "metadata": {
        "colab": {
          "base_uri": "https://localhost:8080/",
          "height": 36
        },
        "id": "t9BoI-ZTseCH",
        "outputId": "937caba2-c8b2-4290-8c40-c21b306a36f6"
      },
      "execution_count": null,
      "outputs": [
        {
          "output_type": "execute_result",
          "data": {
            "text/plain": [
              "'even'"
            ],
            "application/vnd.google.colaboratory.intrinsic+json": {
              "type": "string"
            }
          },
          "metadata": {},
          "execution_count": 36
        }
      ]
    },
    {
      "cell_type": "code",
      "source": [
        "odd_even(55)"
      ],
      "metadata": {
        "colab": {
          "base_uri": "https://localhost:8080/",
          "height": 36
        },
        "id": "zgRNAU1gsgH7",
        "outputId": "3f18514e-545b-4724-abfc-5fa1ce9ed33e"
      },
      "execution_count": null,
      "outputs": [
        {
          "output_type": "execute_result",
          "data": {
            "text/plain": [
              "'odd'"
            ],
            "application/vnd.google.colaboratory.intrinsic+json": {
              "type": "string"
            }
          },
          "metadata": {},
          "execution_count": 37
        }
      ]
    },
    {
      "cell_type": "code",
      "source": [
        "name = 'GHANIM'"
      ],
      "metadata": {
        "id": "NzxfxToNL42k"
      },
      "execution_count": null,
      "outputs": []
    },
    {
      "cell_type": "code",
      "source": [
        "for i in name:\n",
        "  print(i)"
      ],
      "metadata": {
        "colab": {
          "base_uri": "https://localhost:8080/"
        },
        "id": "-o-wEAqcMJew",
        "outputId": "c32e3ba2-8bc6-400a-bf9a-4c415c554668"
      },
      "execution_count": null,
      "outputs": [
        {
          "output_type": "stream",
          "name": "stdout",
          "text": [
            "G\n",
            "h\n",
            "a\n",
            "n\n",
            "i\n",
            "m\n"
          ]
        }
      ]
    },
    {
      "cell_type": "code",
      "source": [
        "for i in name:\n",
        "  if i in 'aeiouAEIOU':\n",
        "    print(i )\n",
        "\n"
      ],
      "metadata": {
        "colab": {
          "base_uri": "https://localhost:8080/"
        },
        "id": "ltQeTJZAMZTM",
        "outputId": "97b5a1ab-935c-4470-c87a-32f55e341d08"
      },
      "execution_count": null,
      "outputs": [
        {
          "output_type": "stream",
          "name": "stdout",
          "text": [
            "A\n",
            "I\n"
          ]
        }
      ]
    },
    {
      "cell_type": "code",
      "source": [
        "for i in name:\n",
        "  if i.lower() in 'aeiou':\n",
        "    print(i.lower() )\n",
        "\n"
      ],
      "metadata": {
        "colab": {
          "base_uri": "https://localhost:8080/"
        },
        "id": "Old32eX2NIMO",
        "outputId": "11a988bf-5eea-4302-b2d3-cfaf07167d04"
      },
      "execution_count": null,
      "outputs": [
        {
          "output_type": "stream",
          "name": "stdout",
          "text": [
            "a\n",
            "i\n"
          ]
        }
      ]
    },
    {
      "cell_type": "code",
      "source": [
        "vowel_count = 0\n",
        "for i in name:\n",
        "  if i in ['a','e','i','o','u']:\n",
        "    vowel_count = vowel_count + 1  # vowel_count += 1 (short)\n",
        "print(vowel_count)\n"
      ],
      "metadata": {
        "colab": {
          "base_uri": "https://localhost:8080/"
        },
        "id": "RI1EHqpmsiMG",
        "outputId": "151b91c4-1d3d-4790-c33e-0c5e60d14adb"
      },
      "execution_count": null,
      "outputs": [
        {
          "output_type": "stream",
          "name": "stdout",
          "text": [
            "2\n"
          ]
        }
      ]
    },
    {
      "cell_type": "code",
      "source": [
        "vowel_count = 0\n",
        "for i in name:\n",
        "    if i.lower() in ['a', 'e', 'i', 'o', 'u']:\n",
        "        vowel_count += 1\n",
        "print(vowel_count)\n"
      ],
      "metadata": {
        "colab": {
          "base_uri": "https://localhost:8080/"
        },
        "id": "4vo_ZtQUhdPp",
        "outputId": "fb6ad10e-18c2-4550-bb17-a7c3e562706f"
      },
      "execution_count": null,
      "outputs": [
        {
          "output_type": "stream",
          "name": "stdout",
          "text": [
            "2\n"
          ]
        }
      ]
    },
    {
      "cell_type": "code",
      "source": [
        "def vwl_cnt(s):\n",
        "  vowel_count = 0\n",
        "  for i in name:\n",
        "    if i.lower() in ['a', 'e', 'i', 'o', 'u']:\n",
        "        vowel_count += 1\n",
        "  print(vowel_count)\n"
      ],
      "metadata": {
        "id": "lwzJrvpWOP9e"
      },
      "execution_count": null,
      "outputs": []
    },
    {
      "cell_type": "code",
      "source": [
        "print(vwl_cnt('olesia lihai'))\n"
      ],
      "metadata": {
        "colab": {
          "base_uri": "https://localhost:8080/"
        },
        "id": "064z2_SjOdcq",
        "outputId": "a52a07b7-89f9-4d11-9a5c-0179d6d1103b"
      },
      "execution_count": null,
      "outputs": [
        {
          "output_type": "stream",
          "name": "stdout",
          "text": [
            "None\n"
          ]
        }
      ]
    },
    {
      "cell_type": "code",
      "source": [
        "def vowel_count(name):\n",
        "  count = 0\n",
        "  vowels = ['a','e','i','o','u']\n",
        "  for i in name:\n",
        "    if i in vowels:\n",
        "      count = count + 1\n",
        "  return count"
      ],
      "metadata": {
        "id": "jNlK8Wg7uTxE"
      },
      "execution_count": null,
      "outputs": []
    },
    {
      "cell_type": "code",
      "source": [
        "if ( vowel_count('Ghanim') % 2 == 0 ):\n",
        "  print(\"Even vowels\")\n",
        "else:\n",
        "  print('Odd vowels')"
      ],
      "metadata": {
        "colab": {
          "base_uri": "https://localhost:8080/"
        },
        "id": "gz4SoSFXPm3h",
        "outputId": "9b7c6685-59c0-42a6-f085-1abce3d5ea38"
      },
      "execution_count": null,
      "outputs": [
        {
          "output_type": "stream",
          "name": "stdout",
          "text": [
            "Even vowels\n"
          ]
        }
      ]
    },
    {
      "cell_type": "code",
      "source": [
        "if ( vowel_count('olesia lihai') % 2 == 0 ):\n",
        "  print(\"Even vowels\")\n",
        "else:\n",
        "  print('Odd vowels')"
      ],
      "metadata": {
        "colab": {
          "base_uri": "https://localhost:8080/"
        },
        "id": "79WTS8YPSNfU",
        "outputId": "f12f0e88-0fec-490c-d666-db1d126dbd87"
      },
      "execution_count": null,
      "outputs": [
        {
          "output_type": "stream",
          "name": "stdout",
          "text": [
            "Odd vowels\n"
          ]
        }
      ]
    },
    {
      "cell_type": "code",
      "source": [
        "user_name= input('Enter your name = ' )\n",
        "if ( vowel_count(user_name) % 2 == 0 ):\n",
        "  print(\"Even vowels\")\n",
        "else:\n",
        "  print('Odd vowels')\n"
      ],
      "metadata": {
        "colab": {
          "base_uri": "https://localhost:8080/"
        },
        "id": "2Mqnl1A0Si-s",
        "outputId": "652d58bf-8ad2-4c47-eb40-aee236cc8fe2"
      },
      "execution_count": null,
      "outputs": [
        {
          "output_type": "stream",
          "name": "stdout",
          "text": [
            "Enter your name = anna\n",
            "Even vowels\n"
          ]
        }
      ]
    },
    {
      "cell_type": "code",
      "source": [
        "if ( vwl_count('Ghanim') % 2 == 0 ):\n",
        "  print(\"Even vowels\")\n",
        "else:\n",
        "  print('Odd vowels')"
      ],
      "metadata": {
        "colab": {
          "base_uri": "https://localhost:8080/",
          "height": 198
        },
        "id": "4oQn8y7TRWLe",
        "outputId": "2a45c75d-e0ff-4a71-b56b-6a73359c7154"
      },
      "execution_count": null,
      "outputs": [
        {
          "output_type": "error",
          "ename": "NameError",
          "evalue": "name 'vwl_count' is not defined",
          "traceback": [
            "\u001b[0;31m---------------------------------------------------------------------------\u001b[0m",
            "\u001b[0;31mNameError\u001b[0m                                 Traceback (most recent call last)",
            "\u001b[0;32m/tmp/ipython-input-3532467144.py\u001b[0m in \u001b[0;36m<cell line: 0>\u001b[0;34m()\u001b[0m\n\u001b[0;32m----> 1\u001b[0;31m \u001b[0;32mif\u001b[0m \u001b[0;34m(\u001b[0m \u001b[0mvwl_count\u001b[0m\u001b[0;34m(\u001b[0m\u001b[0;34m'Ghanim'\u001b[0m\u001b[0;34m)\u001b[0m \u001b[0;34m%\u001b[0m \u001b[0;36m2\u001b[0m \u001b[0;34m==\u001b[0m \u001b[0;36m0\u001b[0m \u001b[0;34m)\u001b[0m\u001b[0;34m:\u001b[0m\u001b[0;34m\u001b[0m\u001b[0;34m\u001b[0m\u001b[0m\n\u001b[0m\u001b[1;32m      2\u001b[0m   \u001b[0mprint\u001b[0m\u001b[0;34m(\u001b[0m\u001b[0;34m\"Even vowels\"\u001b[0m\u001b[0;34m)\u001b[0m\u001b[0;34m\u001b[0m\u001b[0;34m\u001b[0m\u001b[0m\n\u001b[1;32m      3\u001b[0m \u001b[0;32melse\u001b[0m\u001b[0;34m:\u001b[0m\u001b[0;34m\u001b[0m\u001b[0;34m\u001b[0m\u001b[0m\n\u001b[1;32m      4\u001b[0m   \u001b[0mprint\u001b[0m\u001b[0;34m(\u001b[0m\u001b[0;34m'Odd vowels'\u001b[0m\u001b[0;34m)\u001b[0m\u001b[0;34m\u001b[0m\u001b[0;34m\u001b[0m\u001b[0m\n",
            "\u001b[0;31mNameError\u001b[0m: name 'vwl_count' is not defined"
          ]
        }
      ]
    },
    {
      "cell_type": "code",
      "source": [
        "print(vowel_count('anna'))\n",
        "print(vowel_count('agjjnna'))\n",
        "print(vowel_count('annganrga'))"
      ],
      "metadata": {
        "colab": {
          "base_uri": "https://localhost:8080/"
        },
        "id": "JDQWQgH5QLEU",
        "outputId": "4351b8c1-1118-4b41-8272-05adcb41f1b0"
      },
      "execution_count": null,
      "outputs": [
        {
          "output_type": "stream",
          "name": "stdout",
          "text": [
            "2\n",
            "2\n",
            "3\n"
          ]
        }
      ]
    },
    {
      "cell_type": "code",
      "source": [
        "vowel_count('annganrga')\n"
      ],
      "metadata": {
        "colab": {
          "base_uri": "https://localhost:8080/"
        },
        "id": "ZwEjTSOlQhRT",
        "outputId": "faa33738-e5bd-46a4-8f6b-6035a494dc09"
      },
      "execution_count": null,
      "outputs": [
        {
          "output_type": "execute_result",
          "data": {
            "text/plain": [
              "3"
            ]
          },
          "metadata": {},
          "execution_count": 34
        }
      ]
    },
    {
      "cell_type": "code",
      "source": [
        "vowel_count('agjjenna')"
      ],
      "metadata": {
        "colab": {
          "base_uri": "https://localhost:8080/"
        },
        "id": "Wm_AM_5HQKzb",
        "outputId": "aca2c782-42f5-4b67-c720-cd362056f8a3"
      },
      "execution_count": null,
      "outputs": [
        {
          "output_type": "execute_result",
          "data": {
            "text/plain": [
              "3"
            ]
          },
          "metadata": {},
          "execution_count": 35
        }
      ]
    },
    {
      "cell_type": "code",
      "source": [
        "print( vowel_count('olesia lihai'))\n"
      ],
      "metadata": {
        "colab": {
          "base_uri": "https://localhost:8080/"
        },
        "id": "lr8a095Ku-X_",
        "outputId": "52a28624-20a5-4016-f166-eb2aad024cf4"
      },
      "execution_count": null,
      "outputs": [
        {
          "output_type": "stream",
          "name": "stdout",
          "text": [
            "7\n"
          ]
        }
      ]
    },
    {
      "cell_type": "code",
      "source": [
        "vowel_count(input())"
      ],
      "metadata": {
        "colab": {
          "base_uri": "https://localhost:8080/"
        },
        "id": "1g2C7hMgvBYD",
        "outputId": "1c586b34-fb66-4bbe-85aa-51a0990aacbb"
      },
      "execution_count": null,
      "outputs": [
        {
          "name": "stdout",
          "output_type": "stream",
          "text": [
            "olesiiiiia lihai\n"
          ]
        },
        {
          "output_type": "execute_result",
          "data": {
            "text/plain": [
              "11"
            ]
          },
          "metadata": {},
          "execution_count": 43
        }
      ]
    },
    {
      "cell_type": "code",
      "source": [
        "def vowel_halves(str):\n",
        "  left_vowel = 0\n",
        "  right_half = 0\n",
        "  full_lenght\n",
        "\n"
      ],
      "metadata": {
        "id": "eXkridfIvLJ1"
      },
      "execution_count": null,
      "outputs": []
    },
    {
      "cell_type": "code",
      "source": [
        "def compare_halves(s):\n",
        "  s = 'book'\n",
        "  m = len(s) // 2\n",
        "  lhs = s[:m]\n",
        "  rhs = s[m:]\n",
        "  L_count = 0\n",
        "  R_count = 0\n",
        "  vowels = ['a','e','i','o','u']\n",
        "\n",
        "  for i in lhs:\n",
        "      if i in vowels:\n",
        "          L_count = L_count + 1\n",
        "  for i in rhs:\n",
        "      if i in vowels:\n",
        "          R_count = R_count + 1\n",
        "\n",
        "  if L_count == R_count:\n",
        "      return 'equal'\n",
        "  else:\n",
        "      return 'unequal'\n",
        "\n",
        "compare_halves('book')"
      ],
      "metadata": {
        "colab": {
          "base_uri": "https://localhost:8080/",
          "height": 35
        },
        "id": "MiCC5wP4xzjh",
        "outputId": "72535781-b846-4610-d94f-930aefca11d9"
      },
      "execution_count": null,
      "outputs": [
        {
          "output_type": "execute_result",
          "data": {
            "text/plain": [
              "'equal'"
            ],
            "application/vnd.google.colaboratory.intrinsic+json": {
              "type": "string"
            }
          },
          "metadata": {},
          "execution_count": 10
        }
      ]
    },
    {
      "cell_type": "code",
      "source": [
        "def compare_halves(s):\n",
        "    m = len(s) // 2\n",
        "    lhs = s[:m]\n",
        "    rhs = s[m:]\n",
        "    L_count = 0\n",
        "    R_count = 0\n",
        "    vowels = ['a', 'e', 'i', 'o', 'u']\n",
        "\n",
        "    for i in lhs:\n",
        "        if i in vowels:\n",
        "            L_count += 1\n",
        "    for i in rhs:\n",
        "        if i in vowels:\n",
        "            R_count += 1\n",
        "\n",
        "    if L_count == R_count:\n",
        "        return 'equal'\n",
        "    else:\n",
        "        return 'unequal'\n"
      ],
      "metadata": {
        "id": "cJa8e1yk0BeL"
      },
      "execution_count": null,
      "outputs": []
    },
    {
      "cell_type": "code",
      "source": [
        "result = compare_halves('book')\n",
        "print(result)  # Output: equal\n",
        "\n"
      ],
      "metadata": {
        "colab": {
          "base_uri": "https://localhost:8080/"
        },
        "id": "-nqxMcNsV_Pd",
        "outputId": "4eb91434-e9ec-4297-a066-8b1b5f2dbe23"
      },
      "execution_count": null,
      "outputs": [
        {
          "output_type": "stream",
          "name": "stdout",
          "text": [
            "equal\n"
          ]
        }
      ]
    },
    {
      "cell_type": "code",
      "source": [],
      "metadata": {
        "id": "o2th7g4rWViz"
      },
      "execution_count": null,
      "outputs": []
    }
  ]
}